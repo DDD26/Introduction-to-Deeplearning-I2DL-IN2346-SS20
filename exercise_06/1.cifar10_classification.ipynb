{
 "cells": [
  {
   "cell_type": "markdown",
   "metadata": {},
   "source": [
    "# Cifar10 Classification"
   ]
  },
  {
   "cell_type": "markdown",
   "metadata": {},
   "source": [
    "Until now, we have implemented several pieces of a deep learning pipeline and even trained a two-layer neural network, but all the hyperparameters were already set to some values yielding resonable results. In real-life problems, however, much of the work in a deep learning project will be geared towards finding the best hyperparameters for a certain problem. In this notebook we will explore some good practices for network debugging and hyperparameters search, as well as extending our previously binary classification neural network to a multi-class one.\n",
    "\n",
    "Let's go!"
   ]
  },
  {
   "cell_type": "code",
   "execution_count": 1,
   "metadata": {},
   "outputs": [],
   "source": [
    "# Some lengthy setup.\n",
    "import matplotlib.pyplot as plt\n",
    "import numpy as np\n",
    "import os\n",
    "\n",
    "from exercise_code.networks.layer import (\n",
    "    Sigmoid, \n",
    "    Relu, \n",
    "    LeakyRelu, \n",
    "    Tanh,\n",
    ")\n",
    "from exercise_code.data import (\n",
    "    DataLoader,\n",
    "    ImageFolderDataset,\n",
    "    RescaleTransform,\n",
    "    NormalizeTransform,\n",
    "    FlattenTransform,\n",
    "    ComposeTransform,\n",
    ")\n",
    "from exercise_code.networks import (\n",
    "    ClassificationNet,\n",
    "    BCE,\n",
    "    CrossEntropyFromLogits\n",
    ")\n",
    "\n",
    "%load_ext autoreload\n",
    "%autoreload 2\n",
    "%matplotlib inline\n",
    "\n",
    "plt.rcParams['figure.figsize'] = (10.0, 8.0) # set default size of plots\n",
    "plt.rcParams['image.interpolation'] = 'nearest'\n",
    "plt.rcParams['image.cmap'] = 'gray'"
   ]
  },
  {
   "cell_type": "markdown",
   "metadata": {},
   "source": [
    "# 1. Quick recap (and some new things)"
   ]
  },
  {
   "cell_type": "markdown",
   "metadata": {},
   "source": [
    "Until now, in the previous exercises, we focused on building and understanding all the necessary modules for training a simple model. We followed the Pytorch implementations closely, as this is the framework we will use later and we want you to have a smoother transition to its APIs. \n",
    "\n",
    "In the figure below you can see the main components in Pytorch. Before starting the actual exercise, we begin with a quick recap of **our implementation** of these components. \n",
    "\n",
    "Everything is already implemented for this part, but we **strongly** encourage you to check out the respective source files in order to have a better understanding."
   ]
  },
  {
   "cell_type": "markdown",
   "metadata": {},
   "source": [
    "<img src=\"https://cdn-images-1.medium.com/max/800/1*uZrS4KjAuSJQIJPgOiaJUg.png\" style=\"width: 500px;\">"
   ]
  },
  {
   "cell_type": "markdown",
   "metadata": {},
   "source": [
    "## 1.1 Dataset and Dataloader"
   ]
  },
  {
   "cell_type": "markdown",
   "metadata": {},
   "source": [
    "Data preparation represents an important part of deep learning projects. The data comes from different sources and in different formats and is prepared differently from application to application. One part, however, is clear: because entire datasets are usually too large for us to handle at once, we train our models on smaller batches of data. \n",
    "\n",
    "The goal of the ```Dataset``` class is to encapsulate all the 'dirty' data processing: loading and cleaning the data, storing features (or names of files where features can be found) and labels, as well as providing the means for accessing individual (transformed) items of the data using the ```__getitem__()``` function and an index. You already implemented an ```ImageFolderDataset``` (in ```exercise_code/data/image_folder_dataset.py```) class in Exercise 3. We we will reuse this class here.\n",
    "\n",
    "For processing the data, you implemented several transforms in Exercise 3 (```RescaleTransform```, ```NormalizeTransform```, ```ComposeTransform```). In this exercise we are working with images, which are multidimensional arrays, but we are using simple feedforward neural network which takes a one dimensional array as an input, so it is necessary to reshape the images before feeding them into the model. We implemented this reshape operation for you in the ```FlattenTransform``` class, also found in ```exercise_code/data/image_folder_dataset.py```."
   ]
  },
  {
   "cell_type": "code",
   "execution_count": 2,
   "metadata": {},
   "outputs": [],
   "source": [
    "download_url = \"https://cdn3.vision.in.tum.de/~dl4cv/cifar10.zip\"\n",
    "i2dl_exercises_path = os.path.dirname(os.path.abspath(os.getcwd()))\n",
    "cifar_root = os.path.join(i2dl_exercises_path, \"datasets\", \"cifar10\")\n",
    "\n",
    "# Use the Cifar10 mean and standard deviation computed in Exercise 3.\n",
    "cifar_mean = np.array([0.49191375, 0.48235852, 0.44673872])\n",
    "cifar_std  = np.array([0.24706447, 0.24346213, 0.26147554])\n",
    "\n",
    "# Define all the transforms we will apply on the images when \n",
    "# retrieving them.\n",
    "rescale_transform = RescaleTransform()\n",
    "normalize_transform = NormalizeTransform(\n",
    "    mean=cifar_mean,\n",
    "    std=cifar_std\n",
    ")\n",
    "flatten_transform = FlattenTransform()\n",
    "compose_transform = ComposeTransform([rescale_transform, \n",
    "                                      normalize_transform,\n",
    "                                      flatten_transform])\n",
    "\n",
    "# Create a train, validation and test dataset.\n",
    "datasets = {}\n",
    "for mode in ['train', 'val', 'test']:\n",
    "    crt_dataset = ImageFolderDataset(\n",
    "        mode=mode,\n",
    "        root=cifar_root, \n",
    "        download_url=download_url,\n",
    "        transform=compose_transform,\n",
    "        split={'train': 0.6, 'val': 0.2, 'test': 0.2}\n",
    "    )\n",
    "    datasets[mode] = crt_dataset"
   ]
  },
  {
   "cell_type": "markdown",
   "metadata": {},
   "source": [
    "Then, based on this ```Dataset``` object, we can construct a ```Dataloader``` object which samples a random mini-batch of data at once. "
   ]
  },
  {
   "cell_type": "code",
   "execution_count": 3,
   "metadata": {},
   "outputs": [],
   "source": [
    "# Create a dataloader for each split.\n",
    "dataloaders = {}\n",
    "for mode in ['train', 'val', 'test']:\n",
    "    crt_dataloader = DataLoader(\n",
    "        dataset=datasets[mode],\n",
    "        batch_size=256,\n",
    "        shuffle=True,\n",
    "        drop_last=True,\n",
    "    )\n",
    "    dataloaders[mode] = crt_dataloader"
   ]
  },
  {
   "cell_type": "markdown",
   "metadata": {},
   "source": [
    "Because the ```Dataloader``` has the ```__iter__()``` method, we can simply iterate through the batches it produces, like this:\n",
    "\n",
    "```python\n",
    "for batch in dataloader['train']:\n",
    "    do_something(batch)\n",
    "```"
   ]
  },
  {
   "cell_type": "markdown",
   "metadata": {},
   "source": [
    "## 1.2 Model"
   ]
  },
  {
   "cell_type": "markdown",
   "metadata": {},
   "source": [
    "Now, that the data is prepared, we can discuss the model in which we are feeding the data, which in our case will be a neural network. \n",
    "\n",
    "In Exercise 5, you implemented a simple 2-layer neural network that had a hidden size as a parameter:\n",
    "\n",
    "$$ \n",
    "{\\hat{y}} = \\sigma(\\sigma({x W_1} + {b_1}) {W_2} + {b_2}) \n",
    "$$\n",
    "\n",
    "where $ \\sigma({x}) $ was the sigmoid function, $ {x} $ was the input, $ {W_1}, {W_2} $ the weight matrices and $ {b_1}, {b_2}$ the biases for the two layers.\n",
    "\n",
    "This is how we used this network:"
   ]
  },
  {
   "cell_type": "code",
   "execution_count": 4,
   "metadata": {},
   "outputs": [],
   "source": [
    "input_size = datasets['train'][0]['image'].shape[0]\n",
    "model = ClassificationNet(input_size=input_size, \n",
    "                          hidden_size=512)"
   ]
  },
  {
   "cell_type": "markdown",
   "metadata": {},
   "source": [
    "Note that we updated the ```ClassificationNet``` from the previous exercise, so that now you can customize more: the number of outputs, the choice of activation function, the hidden size etc. We encourage you to check out the implementation in ```exercise_code/networks/classification_net.py``` "
   ]
  },
  {
   "cell_type": "code",
   "execution_count": 5,
   "metadata": {},
   "outputs": [],
   "source": [
    "num_layer = 2\n",
    "reg = 0.1\n",
    "\n",
    "model = ClassificationNet(activation=Sigmoid(), \n",
    "                          num_layer=num_layer, \n",
    "                          reg=reg,\n",
    "                          num_classes=10)"
   ]
  },
  {
   "cell_type": "markdown",
   "metadata": {},
   "source": [
    "Then, the forward and backward passes through the model were simply:\n",
    "\n",
    "```python\n",
    "\n",
    "# X is a batch of training features \n",
    "# X.shape = (batch_size, features_size)\n",
    "y_out = model.forward(X)\n",
    "\n",
    "# dout is the gradient of the loss function w.r.t the output of the network.\n",
    "# dout.shape = (batch_size, )\n",
    "model.backward(dout)\n",
    "```"
   ]
  },
  {
   "cell_type": "markdown",
   "metadata": {},
   "source": [
    "Just as the learning rate or the number of iterations we want to train for, the number of hidden layers and the number of units in each hidden layer are also hyperparameters. In this notebook you will play with networks of different sizes and will see the impact that the network capacity has."
   ]
  },
  {
   "cell_type": "markdown",
   "metadata": {},
   "source": [
    "## 1.3 Loss"
   ]
  },
  {
   "cell_type": "markdown",
   "metadata": {},
   "source": [
    "In order to measure how well a network is performing, we implemented several ```Loss``` classes (```L1```, ```MSE```, ```BCE```, each preferred for a certain type of problems) in ```exercise_code/networks/loss.py```.\n",
    "\n",
    "Each implemented a ```forward()``` method, which outputs a number that we use as a proxy for our network performance. \n",
    "\n",
    "Also, because our goal was to change the weights of the network such that this loss measure decreases, we were also interested in the gradients of the loss w.r.t the outputs of the network, $ \\nabla_{\\hat{y}} L({\\hat{y}}, {y}) $. This was implemented in ```backward()```. \n",
    "\n",
    "In previous exercises, we only worked with binary classification and used binary cross entropy (```BCE```) as a loss function.\n",
    "\n",
    "$$ BCE(\\hat{y}, y) = \\frac{1}{N} \\sum_{i=1}^N \\Big [-y_i \\log(\\hat{y_i}) - (1-y_i) \\log(1 - \\hat{y_i}) \\Big] $$ \n",
    "\n",
    "where\n",
    "- $ N $ was the number of samples we were considering\n",
    "- $\\hat{y}_i$ was the network's prediction for sample $i$. Note that this was a valid probability $\\in [0, 1]$, because we applied a [sigmoid](https://en.wikipedia.org/wiki/Sigmoid_function) activation on the last layer. \n",
    "- $ y_i $ was the ground truth label (0 or 1, depending on the class)\n",
    "\n",
    "Because we have 10 classes in the CIFAR10 dataset, we need a generalization of the binary cross entropy for multiple classes. This is simply called the cross entropy loss and has the following definition:\n",
    "\n",
    "$$ CE(\\hat{y}, y) = \\frac{1}{N} \\sum_{i=1}^N \\sum_{k=1}^{C} \\Big[ -y_{ik} \\log(\\hat{y}_{ik}) \\Big] $$\n",
    "\n",
    "where:\n",
    "- $ N $ is again the number of samples\n",
    "- $ C $ is the number of classes\n",
    "- $ \\hat{y}_{ik} $ is the probability that the model assigns for the $k$th class when the $i$th sample is the input. **Because we don't apply any activation function on the last layer of our network, its outputs for each sample will not be a valid probability distribution over the classes. We call these raw outputs of the network '[logits](https://datascience.stackexchange.com/questions/31041/what-does-logits-in-machine-learning-mean/31045)' and we will apply a [softmax](https://en.wikipedia.org/wiki/Softmax_function) activation in order to obtain a valid probability distribution.** \n",
    "- $y_{ik} = 1 $ iff the true label of the $i$th sample is $k$ and 0 otherwise. This is called a [one-hot encoding](https://machinelearningmastery.com/why-one-hot-encode-data-in-machine-learning/).\n",
    "\n",
    "You can check for yourself that when the number of classes $ C $ is 2, then the binary cross entropy is actually equivalent to the cross entropy.\n",
    "\n",
    "We have already implemented the ```CrossEntropyFromLogits``` for you. You can check it out in ```exercise_code/networks/loss.py ```"
   ]
  },
  {
   "cell_type": "code",
   "execution_count": 6,
   "metadata": {},
   "outputs": [],
   "source": [
    "loss = CrossEntropyFromLogits()"
   ]
  },
  {
   "cell_type": "markdown",
   "metadata": {},
   "source": [
    "Just as with the previous losses we have seen, we can simply get the results of the forward and backward passes as follows:"
   ]
  },
  {
   "cell_type": "markdown",
   "metadata": {},
   "source": [
    "```python\n",
    "# y_out is the output of the neural network\n",
    "# y_truth is the actual label from the dataset\n",
    "loss.forward(y_out, y_truth)\n",
    "loss.backward(y_out, y_truth)\n",
    "```"
   ]
  },
  {
   "cell_type": "markdown",
   "metadata": {},
   "source": [
    "## 1.4 Optimizer"
   ]
  },
  {
   "cell_type": "markdown",
   "metadata": {},
   "source": [
    "Now, knowing the gradient of the loss w.r.t the ouputs of the network, as well as the local gradient for each layer of the network, we can use the chain rule to compute all gradients. \n",
    "\n",
    "We implemented several optimizer classes (```SGD```, ```Adam```, ```sgd_momentum```, which you can check out in ```exercise_code/networks/optimizer.py```) that implement different first-order parameter update rules. The ```step()``` method iterates through all the parameters of a model and updates them using the gradient information.\n",
    "\n",
    "What the optimizer is doing, in pseudocode, is the following:\n",
    "\n",
    "```python\n",
    "for param in model:\n",
    "    # Use the gradient to update the weights.\n",
    "    update(param)\n",
    "    \n",
    "    # Reset the gradient after each update.\n",
    "    param.gradient = 0\n",
    "```\n",
    "\n",
    "```SGD``` had the simplest update rule:\n",
    "```python\n",
    "def update(param):\n",
    "    param = param - learning_rate * param.gradient\n",
    "```\n",
    "\n",
    "For the more complicated update rules, see ```exercise_code/networks/optimizer.py```"
   ]
  },
  {
   "cell_type": "markdown",
   "metadata": {},
   "source": [
    "## 1.5 Solver"
   ]
  },
  {
   "cell_type": "markdown",
   "metadata": {},
   "source": [
    "The ```Solver``` is where all the above elements come together: given a train and a validation dataloader, a model, a loss and an optimizer, it uses the training data to optimize a model in order to get better predictions. We simply call ```train()``` and it does its 'magic' for us!\n",
    "```python\n",
    "solver = Solver(model, \n",
    "                dataloaders['train'], \n",
    "                dataloaders['val'], \n",
    "                learning_rate=0.001, \n",
    "                loss_func=MSE(), \n",
    "                optimizer=SGD)\n",
    "\n",
    "solver.train(epochs=epochs)\n",
    "```\n",
    "\n",
    "In order to see, that there is no actual 'magic' check out its implementation in ```exercise_code/solver.py``` ;)."
   ]
  },
  {
   "cell_type": "markdown",
   "metadata": {},
   "source": [
    "# 2. An overview of hyperparameters"
   ]
  },
  {
   "cell_type": "markdown",
   "metadata": {
    "collapsed": true
   },
   "source": [
    "\n",
    "<img src=https://images.deepai.org/glossary-terms/05c646fe1676490aa0b8cab0732a02b2/hyperparams.png alt=hyperparameter width=700>\n",
    "\n",
    "A **hyperparameter** is a parameter that is set before the learning process begins. Recall that the parameters of weight matrix and bias vector are learned during the learning process.\n",
    "\n",
    "The hyperparameters are essential, for they control and affect the whole training and have a great impact on the performance of the model. \n",
    "\n",
    "Some examples of hyperparameters we have covered in lectures:\n",
    "* Network architecture\n",
    "    * Choice of activation function\n",
    "    * Number of layers\n",
    "    * ...\n",
    "* Learning rate\n",
    "* Number of epochs\n",
    "* Batch size\n",
    "* Regularization strength\n",
    "* Momentum\n",
    "* ..."
   ]
  },
  {
   "cell_type": "markdown",
   "metadata": {},
   "source": [
    "## Start debugging your own network!"
   ]
  },
  {
   "cell_type": "markdown",
   "metadata": {},
   "source": [
    "As already suggested in the lectures, you may always want to start from small and simple architectures, to make sure you are going the right way. \n",
    "\n",
    "First you may need to overfit a single training sample, then a few batches of training samples, then go deeper with larger neural networks and the whole training data.\n",
    "\n",
    "Here we always provide a default neural network (i.e. ClassificationNet) with arbitrary number of layers, which is a generalization from a fixed 2-layer neural network in exercise 5. You are welcome to implement your own network, in that case just implement **MyOwnNetwork** in ```exercise_code/networks/classification_net.py```. You can also copy things from ClassficationNet and make a little adjustment to your own network. For either way, just pick a network and comment out the other one, then run the cells below for debugging.\n",
    "\n",
    "__Note__: \n",
    "- Please, make sure you don't modify the ClassificationNet itself so that you can always have a working network to fall back on\n",
    "- In order to pass this submissions, you can **first stick to the default ClassificationNet implementation without changing any code at all**. The goal of this submission is to find reasonable hyperparameters and the parameter options of the ClassificationNet are broad enough.\n",
    "- Once you have surpassed the submission goal, you can try to implement additional activation functions in the accompanying notebook, try different weight initializations or other adjustments by writing your own network architecture in the MyOwnNetwork class."
   ]
  },
  {
   "cell_type": "markdown",
   "metadata": {},
   "source": [
    "First, let's begin with a 2-layer neural network, and overfit one single training sample.\n",
    "\n",
    "After training, let's evaluate the training process by plotting the loss curves."
   ]
  },
  {
   "cell_type": "code",
   "execution_count": 7,
   "metadata": {},
   "outputs": [
    {
     "name": "stdout",
     "output_type": "stream",
     "text": [
      "(Epoch 1 / 20) train loss: 2.332298; val loss: 2.333434\n",
      "(Epoch 2 / 20) train loss: 2.332298; val loss: 2.321147\n",
      "(Epoch 3 / 20) train loss: 2.207704; val loss: 2.329631\n",
      "(Epoch 4 / 20) train loss: 2.063199; val loss: 2.353444\n",
      "(Epoch 5 / 20) train loss: 1.897424; val loss: 2.384609\n",
      "(Epoch 6 / 20) train loss: 1.729806; val loss: 2.415315\n",
      "(Epoch 7 / 20) train loss: 1.572151; val loss: 2.440568\n",
      "(Epoch 8 / 20) train loss: 1.425705; val loss: 2.459068\n",
      "(Epoch 9 / 20) train loss: 1.288198; val loss: 2.472408\n",
      "(Epoch 10 / 20) train loss: 1.157970; val loss: 2.483585\n",
      "(Epoch 11 / 20) train loss: 1.034278; val loss: 2.495490\n",
      "(Epoch 12 / 20) train loss: 0.918172; val loss: 2.510058\n",
      "(Epoch 13 / 20) train loss: 0.811920; val loss: 2.528006\n",
      "(Epoch 14 / 20) train loss: 0.717184; val loss: 2.549076\n",
      "(Epoch 15 / 20) train loss: 0.633949; val loss: 2.572525\n",
      "(Epoch 16 / 20) train loss: 0.561114; val loss: 2.597548\n",
      "(Epoch 17 / 20) train loss: 0.497982; val loss: 2.623575\n",
      "(Epoch 18 / 20) train loss: 0.444226; val loss: 2.650372\n",
      "(Epoch 19 / 20) train loss: 0.398835; val loss: 2.677988\n",
      "(Epoch 20 / 20) train loss: 0.360317; val loss: 2.706603\n"
     ]
    }
   ],
   "source": [
    "from exercise_code.solver import Solver\n",
    "from exercise_code.networks.optimizer import SGD, Adam\n",
    "from exercise_code.networks import MyOwnNetwork\n",
    "\n",
    "num_layer = 2\n",
    "epochs = 20\n",
    "reg = 0.1\n",
    "batch_size = 4\n",
    "\n",
    "# model = ClassificationNet(num_layer=num_layer, reg=reg)\n",
    "model = MyOwnNetwork(num_layer=num_layer, reg=reg)\n",
    "\n",
    "loss = CrossEntropyFromLogits()\n",
    "\n",
    "# Make a new data loader with a single training image\n",
    "overfit_dataset = ImageFolderDataset(\n",
    "    mode='train',\n",
    "    root=cifar_root, \n",
    "    download_url=download_url,\n",
    "    transform=compose_transform,\n",
    "    limit_files=1\n",
    ")\n",
    "dataloaders['train_overfit_single_image'] = DataLoader(\n",
    "    dataset=overfit_dataset,\n",
    "    batch_size=batch_size,\n",
    "    shuffle=True,\n",
    "    drop_last=False,\n",
    ")\n",
    "\n",
    "# Decrease validation data for only debugging\n",
    "debugging_validation_dataset = ImageFolderDataset(\n",
    "    mode='val',\n",
    "    root=cifar_root, \n",
    "    download_url=download_url,\n",
    "    transform=compose_transform,\n",
    "    limit_files=100\n",
    ")\n",
    "dataloaders['val_500files'] = DataLoader(\n",
    "    dataset=debugging_validation_dataset,\n",
    "    batch_size=batch_size,\n",
    "    shuffle=True,\n",
    "    drop_last=True,\n",
    ")\n",
    "\n",
    "solver = Solver(model, dataloaders['train_overfit_single_image'], dataloaders['val_500files'], \n",
    "                learning_rate=1e-3, loss_func=loss, optimizer=Adam)\n",
    "\n",
    "solver.train(epochs=epochs)"
   ]
  },
  {
   "cell_type": "code",
   "execution_count": 8,
   "metadata": {},
   "outputs": [
    {
     "data": {
      "image/png": "[encoded data removed]",
      "text/plain": [
       "<Figure size 432x288 with 1 Axes>"
      ]
     },
     "metadata": {
      "needs_background": "light"
     },
     "output_type": "display_data"
    }
   ],
   "source": [
    "plt.title('Loss curves')\n",
    "plt.plot(solver.train_loss_history, '-', label='train')\n",
    "plt.plot(solver.val_loss_history, '-', label='val')\n",
    "plt.legend(loc='lower right')\n",
    "plt.xlabel('Iteration')\n",
    "plt.show()"
   ]
  },
  {
   "cell_type": "code",
   "execution_count": 9,
   "metadata": {},
   "outputs": [
    {
     "name": "stdout",
     "output_type": "stream",
     "text": [
      "Training accuray: 1.00000\n",
      "Validation accuray: 0.07000\n"
     ]
    }
   ],
   "source": [
    "print(\"Training accuray: %.5f\" % (solver.get_dataset_accuracy(dataloaders['train_overfit_single_image'])))\n",
    "print(\"Validation accuray: %.5f\" % (solver.get_dataset_accuracy(dataloaders['val_500files'])))"
   ]
  },
  {
   "cell_type": "markdown",
   "metadata": {},
   "source": [
    "This time let's try to overfit to a small set of training batch samples. Please observe the difference from above. "
   ]
  },
  {
   "cell_type": "code",
   "execution_count": 11,
   "metadata": {},
   "outputs": [
    {
     "name": "stdout",
     "output_type": "stream",
     "text": [
      "(Epoch 1 / 100) train loss: 2.336195; val loss: 2.332960\n",
      "(Epoch 2 / 100) train loss: 2.329757; val loss: 2.333959\n",
      "(Epoch 3 / 100) train loss: 2.212166; val loss: 2.387326\n",
      "(Epoch 4 / 100) train loss: 2.057646; val loss: 2.435320\n",
      "(Epoch 5 / 100) train loss: 2.052662; val loss: 2.515625\n",
      "(Epoch 6 / 100) train loss: 1.932262; val loss: 2.558237\n",
      "(Epoch 7 / 100) train loss: 1.861901; val loss: 2.621158\n",
      "(Epoch 8 / 100) train loss: 1.730670; val loss: 2.702220\n",
      "(Epoch 9 / 100) train loss: 1.756276; val loss: 2.784880\n",
      "(Epoch 10 / 100) train loss: 1.811154; val loss: 2.830942\n",
      "(Epoch 11 / 100) train loss: 1.719071; val loss: 2.845913\n",
      "(Epoch 12 / 100) train loss: 1.648167; val loss: 2.970062\n",
      "(Epoch 13 / 100) train loss: 1.624956; val loss: 3.081727\n",
      "(Epoch 14 / 100) train loss: 1.673248; val loss: 3.109253\n",
      "(Epoch 15 / 100) train loss: 1.597794; val loss: 3.071184\n",
      "(Epoch 16 / 100) train loss: 1.674052; val loss: 3.087301\n",
      "(Epoch 17 / 100) train loss: 1.711370; val loss: 3.154843\n",
      "(Epoch 18 / 100) train loss: 1.655231; val loss: 3.233537\n",
      "(Epoch 19 / 100) train loss: 1.734076; val loss: 3.228723\n",
      "(Epoch 20 / 100) train loss: 1.561730; val loss: 3.238113\n",
      "(Epoch 21 / 100) train loss: 1.539058; val loss: 3.298189\n",
      "(Epoch 22 / 100) train loss: 1.642799; val loss: 3.293067\n",
      "(Epoch 23 / 100) train loss: 1.579669; val loss: 3.284423\n",
      "(Epoch 24 / 100) train loss: 1.424504; val loss: 3.351577\n",
      "(Epoch 25 / 100) train loss: 1.562579; val loss: 3.408086\n",
      "(Epoch 26 / 100) train loss: 1.636433; val loss: 3.380879\n",
      "(Epoch 27 / 100) train loss: 1.467275; val loss: 3.355641\n",
      "(Epoch 28 / 100) train loss: 1.496635; val loss: 3.330275\n",
      "(Epoch 29 / 100) train loss: 1.574660; val loss: 3.359737\n",
      "(Epoch 30 / 100) train loss: 1.484565; val loss: 3.384174\n",
      "(Epoch 31 / 100) train loss: 1.513643; val loss: 3.370813\n",
      "(Epoch 32 / 100) train loss: 1.464691; val loss: 3.379644\n",
      "(Epoch 33 / 100) train loss: 1.422739; val loss: 3.403838\n",
      "(Epoch 34 / 100) train loss: 1.398793; val loss: 3.409710\n",
      "(Epoch 35 / 100) train loss: 1.347674; val loss: 3.406397\n",
      "(Epoch 36 / 100) train loss: 1.328270; val loss: 3.409218\n",
      "(Epoch 37 / 100) train loss: 1.287554; val loss: 3.431848\n",
      "(Epoch 38 / 100) train loss: 1.348391; val loss: 3.444825\n",
      "(Epoch 39 / 100) train loss: 1.259127; val loss: 3.477618\n",
      "(Epoch 40 / 100) train loss: 1.360170; val loss: 3.455303\n",
      "(Epoch 41 / 100) train loss: 1.370313; val loss: 3.414413\n",
      "(Epoch 42 / 100) train loss: 1.295190; val loss: 3.463217\n",
      "(Epoch 43 / 100) train loss: 1.266944; val loss: 3.512444\n",
      "(Epoch 44 / 100) train loss: 1.308412; val loss: 3.494730\n",
      "(Epoch 45 / 100) train loss: 1.288035; val loss: 3.496901\n",
      "(Epoch 46 / 100) train loss: 1.266355; val loss: 3.502723\n",
      "(Epoch 47 / 100) train loss: 1.169890; val loss: 3.497213\n",
      "(Epoch 48 / 100) train loss: 1.195831; val loss: 3.470796\n",
      "(Epoch 49 / 100) train loss: 1.168929; val loss: 3.471097\n",
      "(Epoch 50 / 100) train loss: 1.118484; val loss: 3.468021\n",
      "(Epoch 51 / 100) train loss: 1.250458; val loss: 3.493112\n",
      "(Epoch 52 / 100) train loss: 1.154704; val loss: 3.579604\n",
      "(Epoch 53 / 100) train loss: 1.257164; val loss: 3.622759\n",
      "(Epoch 54 / 100) train loss: 1.229899; val loss: 3.604183\n",
      "(Epoch 55 / 100) train loss: 1.152503; val loss: 3.545686\n",
      "(Epoch 56 / 100) train loss: 1.169605; val loss: 3.516158\n",
      "(Epoch 57 / 100) train loss: 1.103205; val loss: 3.540993\n",
      "(Epoch 58 / 100) train loss: 1.128406; val loss: 3.566121\n",
      "(Epoch 59 / 100) train loss: 1.092544; val loss: 3.569573\n",
      "(Epoch 60 / 100) train loss: 1.021738; val loss: 3.537993\n",
      "(Epoch 61 / 100) train loss: 1.010817; val loss: 3.502978\n",
      "(Epoch 62 / 100) train loss: 1.038354; val loss: 3.498702\n",
      "(Epoch 63 / 100) train loss: 0.985563; val loss: 3.534403\n",
      "(Epoch 64 / 100) train loss: 0.990576; val loss: 3.562324\n",
      "(Epoch 65 / 100) train loss: 0.995692; val loss: 3.541230\n",
      "(Epoch 66 / 100) train loss: 0.992364; val loss: 3.556258\n",
      "(Epoch 67 / 100) train loss: 1.014014; val loss: 3.604946\n",
      "(Epoch 68 / 100) train loss: 1.001815; val loss: 3.642960\n",
      "(Epoch 69 / 100) train loss: 0.986262; val loss: 3.617960\n",
      "(Epoch 70 / 100) train loss: 1.006255; val loss: 3.553576\n",
      "(Epoch 71 / 100) train loss: 1.062156; val loss: 3.555224\n",
      "(Epoch 72 / 100) train loss: 1.026739; val loss: 3.609646\n",
      "(Epoch 73 / 100) train loss: 0.982704; val loss: 3.675236\n",
      "(Epoch 74 / 100) train loss: 0.961699; val loss: 3.662329\n",
      "(Epoch 75 / 100) train loss: 0.955442; val loss: 3.582629\n",
      "(Epoch 76 / 100) train loss: 0.939472; val loss: 3.555621\n",
      "(Epoch 77 / 100) train loss: 0.909350; val loss: 3.571156\n",
      "(Epoch 78 / 100) train loss: 0.914469; val loss: 3.586359\n",
      "(Epoch 79 / 100) train loss: 0.890173; val loss: 3.596466\n",
      "(Epoch 80 / 100) train loss: 0.891267; val loss: 3.554568\n",
      "(Epoch 81 / 100) train loss: 0.916102; val loss: 3.570733\n",
      "(Epoch 82 / 100) train loss: 0.915630; val loss: 3.583009\n",
      "(Epoch 83 / 100) train loss: 0.927740; val loss: 3.572850\n",
      "(Epoch 84 / 100) train loss: 0.866222; val loss: 3.575626\n",
      "(Epoch 85 / 100) train loss: 0.904793; val loss: 3.583561\n",
      "(Epoch 86 / 100) train loss: 0.839376; val loss: 3.596517\n",
      "(Epoch 87 / 100) train loss: 0.895574; val loss: 3.576731\n",
      "(Epoch 88 / 100) train loss: 0.887864; val loss: 3.531414\n",
      "(Epoch 89 / 100) train loss: 0.859616; val loss: 3.555055\n",
      "(Epoch 90 / 100) train loss: 0.842514; val loss: 3.584838\n",
      "(Epoch 91 / 100) train loss: 0.846849; val loss: 3.582366\n",
      "(Epoch 92 / 100) train loss: 0.910768; val loss: 3.577744\n",
      "(Epoch 93 / 100) train loss: 0.879846; val loss: 3.635167\n",
      "(Epoch 94 / 100) train loss: 1.013660; val loss: 3.629443\n",
      "(Epoch 95 / 100) train loss: 0.892514; val loss: 3.653334\n",
      "(Epoch 96 / 100) train loss: 0.918257; val loss: 3.665987\n",
      "(Epoch 97 / 100) train loss: 0.953845; val loss: 3.660251\n",
      "(Epoch 98 / 100) train loss: 0.887903; val loss: 3.668708\n",
      "(Epoch 99 / 100) train loss: 0.832382; val loss: 3.609497\n",
      "(Epoch 100 / 100) train loss: 0.873084; val loss: 3.563881\n"
     ]
    }
   ],
   "source": [
    "from exercise_code.networks import MyOwnNetwork\n",
    "\n",
    "num_layer = 2\n",
    "epochs = 100\n",
    "reg = 0.1\n",
    "num_samples = 10\n",
    "\n",
    "# model = ClassificationNet(num_layer=num_layer, reg=reg)\n",
    "model = MyOwnNetwork(num_layer=num_layer, reg=reg)\n",
    "\n",
    "loss = CrossEntropyFromLogits()\n",
    "\n",
    "# Make a new data loader with a our num_samples training image\n",
    "overfit_dataset = ImageFolderDataset(\n",
    "    mode='train',\n",
    "    root=cifar_root, \n",
    "    download_url=download_url,\n",
    "    transform=compose_transform,\n",
    "    limit_files=num_samples\n",
    ")\n",
    "dataloaders['train_overfit_10samples'] = DataLoader(\n",
    "    dataset=overfit_dataset,\n",
    "    batch_size=batch_size,\n",
    "    shuffle=True,\n",
    "    drop_last=False,\n",
    ")\n",
    "\n",
    "solver = Solver(model, dataloaders['train_overfit_10samples'], dataloaders['val_500files'], \n",
    "                learning_rate=1e-3, loss_func=loss, optimizer=Adam)\n",
    "\n",
    "solver.train(epochs=epochs)"
   ]
  },
  {
   "cell_type": "code",
   "execution_count": 12,
   "metadata": {},
   "outputs": [
    {
     "data": {
      "image/png": "[encoded data removed]",
      "text/plain": [
       "<Figure size 432x288 with 1 Axes>"
      ]
     },
     "metadata": {
      "needs_background": "light"
     },
     "output_type": "display_data"
    }
   ],
   "source": [
    "plt.title('Loss curves')\n",
    "plt.plot(solver.train_loss_history, '-', label='train')\n",
    "plt.plot(solver.val_loss_history, '-', label='val')\n",
    "plt.legend(loc='lower right')\n",
    "plt.xlabel('Iteration')\n",
    "plt.show()"
   ]
  },
  {
   "cell_type": "code",
   "execution_count": 13,
   "metadata": {},
   "outputs": [
    {
     "name": "stdout",
     "output_type": "stream",
     "text": [
      "Training accuray: 1.00000\n",
      "Validation accuray: 0.04000\n"
     ]
    }
   ],
   "source": [
    "print(\"Training accuray: %.5f\" % (solver.get_dataset_accuracy(dataloaders['train_overfit_10samples'])))\n",
    "print(\"Validation accuray: %.5f\" % (solver.get_dataset_accuracy(dataloaders['val_500files'])))"
   ]
  },
  {
   "cell_type": "markdown",
   "metadata": {},
   "source": [
    "If you're overfitting the training data, that means the network's implementation is correct. However, as you have more samples to overfit, your accuracy will be way lower. You can increase the number of epochs above to achieve better results.\n",
    "\n",
    "Now let's try to feed all the training and validation data into the network, but this time we set the same hyperparameters for 2-layer and 5-layer networks, and compare the different behaviors.\n",
    "\n",
    "__Note__: This may take about 1 min for each epoch as the training set is quite large. For convenience, we only train on 1000 images for now but use the full validation set."
   ]
  },
  {
   "cell_type": "code",
   "execution_count": 14,
   "metadata": {},
   "outputs": [
    {
     "name": "stdout",
     "output_type": "stream",
     "text": [
      "(Epoch 1 / 5) train loss: 2.305701; val loss: 2.305666\n",
      "(Epoch 2 / 5) train loss: 2.278313; val loss: 2.217917\n",
      "(Epoch 3 / 5) train loss: 2.229720; val loss: 2.238025\n",
      "(Epoch 4 / 5) train loss: 2.225433; val loss: 2.224318\n",
      "(Epoch 5 / 5) train loss: 2.221223; val loss: 2.223402\n"
     ]
    }
   ],
   "source": [
    "from exercise_code.networks import MyOwnNetwork\n",
    "\n",
    "num_layer = 2\n",
    "epochs = 5\n",
    "reg = 0.01\n",
    "\n",
    "# Make a new data loader with 1000 training samples\n",
    "num_samples = 1000\n",
    "overfit_dataset = ImageFolderDataset(\n",
    "    mode='train',\n",
    "    root=cifar_root, \n",
    "    download_url=download_url,\n",
    "    transform=compose_transform,\n",
    "    limit_files=num_samples\n",
    ")\n",
    "dataloaders['train_small'] = DataLoader(\n",
    "    dataset=overfit_dataset,\n",
    "    batch_size=batch_size,\n",
    "    shuffle=True,\n",
    "    drop_last=False,\n",
    ")\n",
    "\n",
    "\n",
    "# Change here if you want to use the full training set\n",
    "use_full_training_set = False\n",
    "if not use_full_training_set:\n",
    "    train_loader = dataloaders['train_small']\n",
    "else:\n",
    "    train_loader = dataloaders['train']\n",
    "    \n",
    "\n",
    "# model = ClassificationNet(num_layer=num_layer, reg=reg)\n",
    "model = MyOwnNetwork(num_layer=num_layer, reg=reg)\n",
    "\n",
    "loss = CrossEntropyFromLogits()\n",
    "\n",
    "solver = Solver(model, train_loader, dataloaders['val'], \n",
    "                learning_rate=1e-3, loss_func=loss, optimizer=Adam)\n",
    "\n",
    "solver.train(epochs=epochs)"
   ]
  },
  {
   "cell_type": "code",
   "execution_count": 15,
   "metadata": {},
   "outputs": [
    {
     "data": {
      "image/png": "[encoded data removed]",
      "text/plain": [
       "<Figure size 432x288 with 1 Axes>"
      ]
     },
     "metadata": {
      "needs_background": "light"
     },
     "output_type": "display_data"
    }
   ],
   "source": [
    "plt.title('Loss curves')\n",
    "plt.plot(solver.train_loss_history, '-', label='train')\n",
    "plt.plot(solver.val_loss_history, '-', label='val')\n",
    "plt.legend(loc='lower right')\n",
    "plt.xlabel('Iteration')\n",
    "plt.show()"
   ]
  },
  {
   "cell_type": "code",
   "execution_count": 16,
   "metadata": {},
   "outputs": [
    {
     "name": "stdout",
     "output_type": "stream",
     "text": [
      "Training accuray: 0.31400\n",
      "Validation accuray: 0.25701\n"
     ]
    }
   ],
   "source": [
    "print(\"Training accuray: %.5f\" % (solver.get_dataset_accuracy(train_loader)))\n",
    "print(\"Validation accuray: %.5f\" % (solver.get_dataset_accuracy(dataloaders['val'])))"
   ]
  },
  {
   "cell_type": "code",
   "execution_count": 17,
   "metadata": {},
   "outputs": [
    {
     "name": "stdout",
     "output_type": "stream",
     "text": [
      "(Epoch 1 / 5) train loss: 2.305912; val loss: 2.305979\n",
      "(Epoch 2 / 5) train loss: 2.327826; val loss: 2.308235\n",
      "(Epoch 3 / 5) train loss: 2.319178; val loss: 2.321164\n",
      "(Epoch 4 / 5) train loss: 2.313834; val loss: 2.323397\n",
      "(Epoch 5 / 5) train loss: 2.318642; val loss: 2.314411\n"
     ]
    }
   ],
   "source": [
    "from exercise_code.networks import MyOwnNetwork\n",
    "\n",
    "num_layer = 5\n",
    "epochs = 5\n",
    "reg = 0.01\n",
    "\n",
    "# model = ClassificationNet(num_layer=num_layer, reg=reg)\n",
    "model = MyOwnNetwork(num_layer=num_layer, reg=reg)\n",
    "\n",
    "# Change here if you want to use the full training set\n",
    "use_full_training_set = False\n",
    "if not use_full_training_set:\n",
    "    train_loader = dataloaders['train_small']\n",
    "else:\n",
    "    train_loader = dataloaders['train']\n",
    "\n",
    "loss = CrossEntropyFromLogits()\n",
    "\n",
    "solver = Solver(model, train_loader, dataloaders['val'], \n",
    "                learning_rate=1e-3, loss_func=loss, optimizer=Adam)\n",
    "\n",
    "solver.train(epochs=epochs)"
   ]
  },
  {
   "cell_type": "code",
   "execution_count": 18,
   "metadata": {},
   "outputs": [
    {
     "data": {
      "image/png": "[encoded data removed]",
      "text/plain": [
       "<Figure size 432x288 with 1 Axes>"
      ]
     },
     "metadata": {
      "needs_background": "light"
     },
     "output_type": "display_data"
    }
   ],
   "source": [
    "plt.title('Loss curves')\n",
    "plt.plot(solver.train_loss_history, '-', label='train')\n",
    "plt.plot(solver.val_loss_history, '-', label='val')\n",
    "plt.legend(loc='lower right')\n",
    "plt.xlabel('Iteration')\n",
    "plt.show()"
   ]
  },
  {
   "cell_type": "code",
   "execution_count": 19,
   "metadata": {},
   "outputs": [
    {
     "name": "stdout",
     "output_type": "stream",
     "text": [
      "Training accuray: 0.10500\n",
      "Validation accuray: 0.09826\n"
     ]
    }
   ],
   "source": [
    "print(\"Training accuray: %.5f\" % (solver.get_dataset_accuracy(train_loader)))\n",
    "print(\"Validation accuray: %.5f\" % (solver.get_dataset_accuracy(dataloaders['val'])))"
   ]
  },
  {
   "cell_type": "markdown",
   "metadata": {},
   "source": [
    "As you can see from above, the same hyperparameter set can decrease the loss for a 2-layer network, but for 5-layer network, it hardly works.\n",
    "\n",
    "The steps above are already mentioned in the lectures as debugging steps before training a neural network. \n",
    "\n",
    "If you implement your own network, make sure you do the steps above before tuning the hyperparameters as below. "
   ]
  },
  {
   "cell_type": "markdown",
   "metadata": {},
   "source": [
    "## Difficulty in tuning hyperparameters\n",
    "As can be seen through the results of training a larger network, training with whole data doesn't fit the training data as well as training with small number of training data. Besides, the architecture of neural network makes a difference, too. Small decisions on hyperparameters count. \n",
    "\n",
    "Usually, but not always, hyperparameters cannot be learned using well known gradient based methods (such as gradient descent), which are commonly employed to learn parameters. Besides, some hyperparameters can affect the structure of the model and the loss function.\n",
    "\n",
    "As mentioned before, hyperparameters need to be set before training. Tuning hyperparameters is hard, because you always have to try different combinations of the hyperparameters, train the network, do the validation and pick the best one. Besides, it is not guaranteed that you'll find the best combination.\n",
    "\n",
    "Next you will do hands on learning with hyperparameter tuning methods that are covered in lectures."
   ]
  },
  {
   "cell_type": "markdown",
   "metadata": {},
   "source": [
    "# Hyperparameter Tuning\n",
    "\n",
    "![alt text](https://blog.floydhub.com/content/images/2018/08/Screen-Shot-2018-08-22-at-17.59.25.png \"\")\n",
    "\n",
    "One of the main challenges in deep learning is finding the set of hyperparameters that performs best.\n",
    "\n",
    "So far, we have followed a manual approach by guessing hyperparameters, running the model, observing the result and maybe tweaking the hyperparameters based on this result. As you have probably noticed, this manual hyperparameter tuning is unstructured, inefficient and can become very tedious.\n",
    "\n",
    "\n",
    "A more systematic (and actually very simple) approach for hyperparameter tuning that you've already learned in the lecture  is implementing a **Grid Search**. \n",
    "\n",
    "\n",
    "\n",
    "### Grid Search\n",
    "Grid search is a simple and naive, yet effective method to automate the hyperparameter tuning:\n",
    "\n",
    "* First, you define the set of parameters you want to tune, e.g. $\\{learning\\_rate, regularization\\_strength\\}$.\n",
    "\n",
    "* For each hyperparameter, you then define a set of possible values, e.g. $learning\\_rate = \\{0.0001, 0.001, 0.01, 0.1\\}$.\n",
    "\n",
    "* Then, you train a model for every possible combination of these hyperparameter values and afterwards select the combination that works best (e.g. in terms of accuracy on your validation set).\n",
    "\n",
    "Check out our grid search implementation in `exercise_code/hyperparameter_tuning.py`. We show a simple for loop implementation and a more sophisticated one for multiple inputs.\n",
    "\n",
    "*Note: to keep things simple for the beginning, it'll be enough to just focus on the hyperparameters `learning_rate` and `regularization_strength`\n",
    " here, as in the example above.*"
   ]
  },
  {
   "cell_type": "code",
   "execution_count": 20,
   "metadata": {},
   "outputs": [
    {
     "name": "stdout",
     "output_type": "stream",
     "text": [
      "\n",
      "Evaluating Config #1 [of 3]:\n",
      " {'learning_rate': 0.01, 'reg': 0.0001}\n",
      "(Epoch 1 / 10) train loss: 2.302778; val loss: 2.302379\n",
      "(Epoch 2 / 10) train loss: 2.550670; val loss: 2.522825\n",
      "(Epoch 3 / 10) train loss: 2.753534; val loss: 2.766580\n",
      "(Epoch 4 / 10) train loss: 2.938525; val loss: 3.054922\n",
      "(Epoch 5 / 10) train loss: 3.043456; val loss: 3.176369\n",
      "(Epoch 6 / 10) train loss: 3.198517; val loss: 3.160711\n",
      "Stopping early at epoch 5!\n",
      "\n",
      "Evaluating Config #2 [of 3]:\n",
      " {'learning_rate': 0.001, 'reg': 0.0001}\n",
      "(Epoch 1 / 10) train loss: 2.302776; val loss: 2.302850\n",
      "(Epoch 2 / 10) train loss: 2.188627; val loss: 2.018576\n",
      "(Epoch 3 / 10) train loss: 1.999532; val loss: 1.933551\n",
      "(Epoch 4 / 10) train loss: 1.898786; val loss: 1.913171\n",
      "(Epoch 5 / 10) train loss: 1.842486; val loss: 1.911559\n",
      "(Epoch 6 / 10) train loss: 1.765166; val loss: 1.901499\n",
      "(Epoch 7 / 10) train loss: 1.714141; val loss: 1.935994\n",
      "(Epoch 8 / 10) train loss: 1.653468; val loss: 1.930505\n",
      "(Epoch 9 / 10) train loss: 1.604538; val loss: 1.965408\n",
      "(Epoch 10 / 10) train loss: 1.558634; val loss: 1.960153\n",
      "\n",
      "Evaluating Config #3 [of 3]:\n",
      " {'learning_rate': 0.0001, 'reg': 0.0001}\n",
      "(Epoch 1 / 10) train loss: 2.302742; val loss: 2.302700\n",
      "(Epoch 2 / 10) train loss: 2.286272; val loss: 2.243366\n",
      "(Epoch 3 / 10) train loss: 2.212058; val loss: 2.153702\n",
      "(Epoch 4 / 10) train loss: 2.136847; val loss: 2.086200\n",
      "(Epoch 5 / 10) train loss: 2.075843; val loss: 2.034195\n",
      "(Epoch 6 / 10) train loss: 2.025140; val loss: 1.996724\n",
      "(Epoch 7 / 10) train loss: 1.980983; val loss: 1.980872\n",
      "(Epoch 8 / 10) train loss: 1.941590; val loss: 1.947735\n",
      "(Epoch 9 / 10) train loss: 1.904624; val loss: 1.928624\n",
      "(Epoch 10 / 10) train loss: 1.870713; val loss: 1.909161\n",
      "\n",
      "Search done. Best Val Loss = 1.901498907682534\n",
      "Best Config: {'learning_rate': 0.001, 'reg': 0.0001}\n"
     ]
    }
   ],
   "source": [
    "from exercise_code.networks import MyOwnNetwork\n",
    "\n",
    "# Specify the used network\n",
    "model_class = MyOwnNetwork\n",
    "\n",
    "from exercise_code import hyperparameter_tuning\n",
    "best_model, results = hyperparameter_tuning.grid_search(\n",
    "    dataloaders['train_small'], dataloaders['val_500files'],\n",
    "    grid_search_spaces = {\n",
    "        \"learning_rate\": [1e-2, 1e-3, 1e-4], \n",
    "        \"reg\": [1e-4]\n",
    "    },\n",
    "    model_class=model_class,\n",
    "    epochs=10, patience=5)"
   ]
  },
  {
   "cell_type": "markdown",
   "metadata": {},
   "source": [
    "From the results of your grid search, you might already have found some hyperparameter combinations that work better than others. A common practice is to now repeat the grid search on a more narrow domain centered around the parameters that worked best. \n",
    "\n",
    "**Conclusion Grid Search**\n",
    "\n",
    "With grid search we now have automated the hyperparameter tuning to a certain degree. Another advantage is, that since the training of all models are independent of each other, you can parallelize the grid search, i.e.,  try out different hyperparameter configurations in parallel on different machines.\n",
    "\n",
    "However, as you have probably noticed, there is one big problem with this approach: the number of possible combinations to try out grows exponentially with the number of hyperparameters (\"curse of dimensionality\"). As we add more hyperparameters to the grid search, the search space will explode in time complexity, making this strategy unfeasible."
   ]
  },
  {
   "cell_type": "markdown",
   "metadata": {},
   "source": [
    "Especially when your search space contains more than 3 or 4 dimensions, it is often better to use another, similar hyperparameter tuning method that you've already learned about: random search."
   ]
  },
  {
   "cell_type": "markdown",
   "metadata": {},
   "source": [
    "## Random Search\n",
    "Random search is very similar to grid search, with the only difference, that instead of providing specific values for every hyperparameter, you only define a range for each hyperparameter - then, the values are sampled randomly from the provided ranges.\n",
    "\n",
    "![alt text](https://i.stack.imgur.com/cIDuR.png \"\")\n",
    "\n",
    "The figure above illustrates the difference in the hyperparameter space exploration between grid search and random search: assume you have 2 hyperparameters with each 3 values. Running a grid search results in training $3^2=9$ different models - but in the end, you've just tired out 3 values for each parameter. For random search on the other hand, after training 9 models you'll have tried out 9 different values for each hyperparameter, which often leads much faster to good results.\n",
    "\n",
    "To get a deeper understanding of random search and why it is more efficient than grid search, you should definitely check out this paper: http://www.jmlr.org/papers/volume13/bergstra12a/bergstra12a.pdf\n",
    "\n",
    "\n",
    "\n",
    "\n",
    "Now please implement the `nn_random_search` function in `exercise_code/networks/hyperparameter_tuning.py`. \n",
    "\n",
    "*Hint: regarding the sample space of each parameter, think about the scale for which it makes most sense to sample in. For example the learning rate is usually sampled on a logarithmic scale!*\n",
    "\n",
    "*For simplicity and speed, just use the `train_batches`-dataloader!*"
   ]
  },
  {
   "cell_type": "code",
   "execution_count": 21,
   "metadata": {
    "scrolled": true
   },
   "outputs": [
    {
     "name": "stdout",
     "output_type": "stream",
     "text": [
      "\n",
      "Evaluating Config #1 [of 4]:\n",
      " {'learning_rate': 0.00446723135713853, 'reg': 1.408351866195702e-07, 'loss_func': <exercise_code.networks.loss.CrossEntropyFromLogits object at 0x000002CEFA263308>}\n",
      "(Epoch 1 / 20) train loss: 2.302915; val loss: 2.302397\n",
      "(Epoch 2 / 20) train loss: 2.171799; val loss: 2.018032\n",
      "(Epoch 3 / 20) train loss: 2.042564; val loss: 1.963727\n",
      "(Epoch 4 / 20) train loss: 1.951702; val loss: 1.970490\n",
      "(Epoch 5 / 20) train loss: 1.922492; val loss: 2.001290\n",
      "(Epoch 6 / 20) train loss: 1.867360; val loss: 1.943974\n",
      "(Epoch 7 / 20) train loss: 1.832688; val loss: 2.028883\n",
      "(Epoch 8 / 20) train loss: 1.795618; val loss: 2.007613\n",
      "(Epoch 9 / 20) train loss: 1.762401; val loss: 2.036186\n",
      "(Epoch 10 / 20) train loss: 1.728449; val loss: 2.108409\n",
      "(Epoch 11 / 20) train loss: 1.726018; val loss: 2.005407\n",
      "Stopping early at epoch 10!\n",
      "\n",
      "Evaluating Config #2 [of 4]:\n",
      " {'learning_rate': 4.69766115660055e-06, 'reg': 0.0002585021958695567, 'loss_func': <exercise_code.networks.loss.CrossEntropyFromLogits object at 0x000002CEFA263308>}\n",
      "(Epoch 1 / 20) train loss: 2.302391; val loss: 2.302123\n",
      "(Epoch 2 / 20) train loss: 2.302125; val loss: 2.301171\n",
      "(Epoch 3 / 20) train loss: 2.301046; val loss: 2.300329\n",
      "(Epoch 4 / 20) train loss: 2.299855; val loss: 2.299253\n",
      "(Epoch 5 / 20) train loss: 2.298445; val loss: 2.297881\n",
      "(Epoch 6 / 20) train loss: 2.296756; val loss: 2.296292\n",
      "(Epoch 7 / 20) train loss: 2.294766; val loss: 2.294348\n",
      "(Epoch 8 / 20) train loss: 2.292469; val loss: 2.291858\n",
      "(Epoch 9 / 20) train loss: 2.289854; val loss: 2.289067\n",
      "(Epoch 10 / 20) train loss: 2.286949; val loss: 2.285942\n",
      "(Epoch 11 / 20) train loss: 2.283867; val loss: 2.282723\n",
      "(Epoch 12 / 20) train loss: 2.280517; val loss: 2.278908\n",
      "(Epoch 13 / 20) train loss: 2.277003; val loss: 2.274982\n",
      "(Epoch 14 / 20) train loss: 2.273317; val loss: 2.270832\n",
      "(Epoch 15 / 20) train loss: 2.269541; val loss: 2.266642\n",
      "(Epoch 16 / 20) train loss: 2.265676; val loss: 2.262318\n",
      "(Epoch 17 / 20) train loss: 2.261717; val loss: 2.257883\n",
      "(Epoch 18 / 20) train loss: 2.257741; val loss: 2.253158\n",
      "(Epoch 19 / 20) train loss: 2.253672; val loss: 2.248682\n",
      "(Epoch 20 / 20) train loss: 2.249612; val loss: 2.243972\n",
      "\n",
      "Evaluating Config #3 [of 4]:\n",
      " {'learning_rate': 3.96600862827773e-06, 'reg': 6.204893944869048e-05, 'loss_func': <exercise_code.networks.loss.CrossEntropyFromLogits object at 0x000002CEFA263308>}\n",
      "(Epoch 1 / 20) train loss: 2.302306; val loss: 2.302494\n",
      "(Epoch 2 / 20) train loss: 2.302085; val loss: 2.301899\n",
      "(Epoch 3 / 20) train loss: 2.301274; val loss: 2.301288\n",
      "(Epoch 4 / 20) train loss: 2.300390; val loss: 2.300607\n",
      "(Epoch 5 / 20) train loss: 2.299371; val loss: 2.299648\n",
      "(Epoch 6 / 20) train loss: 2.298156; val loss: 2.298564\n",
      "(Epoch 7 / 20) train loss: 2.296779; val loss: 2.297243\n",
      "(Epoch 8 / 20) train loss: 2.295151; val loss: 2.295622\n",
      "(Epoch 9 / 20) train loss: 2.293285; val loss: 2.293740\n",
      "(Epoch 10 / 20) train loss: 2.291195; val loss: 2.291609\n",
      "(Epoch 11 / 20) train loss: 2.288908; val loss: 2.289076\n",
      "(Epoch 12 / 20) train loss: 2.286405; val loss: 2.286453\n",
      "(Epoch 13 / 20) train loss: 2.283761; val loss: 2.283717\n",
      "(Epoch 14 / 20) train loss: 2.280984; val loss: 2.280609\n",
      "(Epoch 15 / 20) train loss: 2.278081; val loss: 2.277322\n",
      "(Epoch 16 / 20) train loss: 2.275037; val loss: 2.273956\n",
      "(Epoch 17 / 20) train loss: 2.271934; val loss: 2.270450\n",
      "(Epoch 18 / 20) train loss: 2.268731; val loss: 2.266896\n",
      "(Epoch 19 / 20) train loss: 2.265473; val loss: 2.263155\n",
      "(Epoch 20 / 20) train loss: 2.262132; val loss: 2.259438\n",
      "\n",
      "Evaluating Config #4 [of 4]:\n",
      " {'learning_rate': 0.0001520130442661276, 'reg': 0.0005306576304937301, 'loss_func': <exercise_code.networks.loss.CrossEntropyFromLogits object at 0x000002CEFA263308>}\n",
      "(Epoch 1 / 20) train loss: 2.302737; val loss: 2.302682\n",
      "(Epoch 2 / 20) train loss: 2.271401; val loss: 2.211952\n",
      "(Epoch 3 / 20) train loss: 2.187508; val loss: 2.144576\n",
      "(Epoch 4 / 20) train loss: 2.121511; val loss: 2.098875\n",
      "(Epoch 5 / 20) train loss: 2.065452; val loss: 2.054959\n",
      "(Epoch 6 / 20) train loss: 2.013970; val loss: 2.021987\n",
      "(Epoch 7 / 20) train loss: 1.968971; val loss: 1.969243\n",
      "(Epoch 8 / 20) train loss: 1.923828; val loss: 1.972748\n",
      "(Epoch 9 / 20) train loss: 1.885500; val loss: 1.937525\n",
      "(Epoch 10 / 20) train loss: 1.845108; val loss: 1.916571\n",
      "(Epoch 11 / 20) train loss: 1.802671; val loss: 1.912555\n",
      "(Epoch 12 / 20) train loss: 1.768129; val loss: 1.922472\n",
      "(Epoch 13 / 20) train loss: 1.731634; val loss: 1.891092\n",
      "(Epoch 14 / 20) train loss: 1.692437; val loss: 1.909387\n",
      "(Epoch 15 / 20) train loss: 1.656978; val loss: 1.885792\n",
      "(Epoch 16 / 20) train loss: 1.627310; val loss: 1.877320\n",
      "(Epoch 17 / 20) train loss: 1.591985; val loss: 1.878451\n",
      "(Epoch 18 / 20) train loss: 1.555972; val loss: 1.889467\n",
      "(Epoch 19 / 20) train loss: 1.526454; val loss: 1.908217\n",
      "(Epoch 20 / 20) train loss: 1.490621; val loss: 1.898524\n",
      "\n",
      "Search done. Best Val Loss = 1.8773198238080724\n",
      "Best Config: {'learning_rate': 0.0001520130442661276, 'reg': 0.0005306576304937301, 'loss_func': <exercise_code.networks.loss.CrossEntropyFromLogits object at 0x000002CEFA263308>}\n"
     ]
    }
   ],
   "source": [
    "from exercise_code.hyperparameter_tuning import random_search\n",
    "from exercise_code.networks import MyOwnNetwork\n",
    "\n",
    "# Specify the used network\n",
    "model_class = MyOwnNetwork\n",
    "\n",
    "best_model, results = random_search(\n",
    "    dataloaders['train_small'], dataloaders['val_500files'],\n",
    "    random_search_spaces = {\n",
    "        \"learning_rate\": ([1e-2, 1e-6], 'log'),\n",
    "        \"reg\": ([1e-3, 1e-7], \"log\"),\n",
    "        \"loss_func\": ([CrossEntropyFromLogits()], \"item\")\n",
    "    },\n",
    "    model_class=model_class,\n",
    "    num_search = 4, epochs=20, patience=5)"
   ]
  },
  {
   "cell_type": "markdown",
   "metadata": {},
   "source": [
    "If your implementation works, then it's time to run it with the whole dataset, and let it search for a few hours for a nice configuration. \n",
    "\n",
    "However, to save some time, let's first implement an **early-stopping** mechanism, that you also already know from the lecture."
   ]
  },
  {
   "cell_type": "markdown",
   "metadata": {},
   "source": [
    "## Early Stopping"
   ]
  },
  {
   "cell_type": "markdown",
   "metadata": {},
   "source": [
    "By now you've already seen a lot of training curves:\n",
    "\n",
    "<img src=http://fouryears.eu/wp-content/uploads/2017/12/early_stopping.png></img>\n",
    "\n",
    "Usually, at some point the validation loss goes up again, which is a sign that we're overfitting to our training data. Since it actually doesn't make any sense to train further at this point, it's common practice to apply \"early stopping\", i.e., cancel the training process when the validation loss doesn't improve anymore. The nice thing about this concept is, that not only it improves generalization through the prevention of overfitting, but also it saves us a lot of time - one of our most valuable resources in deep learning.\n",
    "\n",
    "Since there are natural fluctuations in the validation loss, you usually don't cancel the training process right at the first epoch when the validation-loss increases, but instead, you wait for some epochs (specified by the `patience`-parameter) and if the loss still doesn't improve, we stop.\n",
    "\n",
    "Now, take a look at the implement of early stopping mechanism in the `solver.py` file."
   ]
  },
  {
   "cell_type": "markdown",
   "metadata": {},
   "source": [
    "## Let's find the perfect model!"
   ]
  },
  {
   "cell_type": "markdown",
   "metadata": {},
   "source": [
    "You've now set everything up to start training your model and finding a nice set of hyper parameters using a combination of grid or random search!\n",
    "\n",
    "Since we'll now be training with a much larger number of samples, you should be aware that this process will definitely take some time! So be prepared to let your machine run for a while. \n",
    "\n",
    "At the beginning, it's a good approach to first do a coarse random search across a wide range of values to find promising sub-ranges of your parameter space. Afterwards, you can zoom in to these ranges and do another random search (or grid search) to finetune the configuration.\n",
    "\n",
    "You don't have to use the whole dataset at the beginning, instead you can also use a medium large subset of the samples. Also, you don't need to train for a large number of epochs - as mentioned above: we first want to get an overview about our hyper parameters.\n",
    "\n",
    "**Task: put in some reasonable ranges for the hyperparameters and evaluate them using random search!**\n",
    "\n",
    "Finally, once you've found some good hyper parameters, train on the whole dataset for a large number of epochs and make sure you use the full training data!"
   ]
  },
  {
   "cell_type": "code",
   "execution_count": 22,
   "metadata": {},
   "outputs": [
    {
     "name": "stdout",
     "output_type": "stream",
     "text": [
      "\n",
      "Evaluating Config #1 [of 15]:\n",
      " {'learning_rate': 1.1859810509161208e-05, 'reg': 2.1261296911877455e-05, 'loss_func': <exercise_code.networks.loss.CrossEntropyFromLogits object at 0x000002CEFA4937C8>, 'hidden_size': 410, 'activation': <exercise_code.networks.layer.Relu object at 0x000002CEFA263608>, 'optimizer': <class 'exercise_code.networks.optimizer.Adam'>}\n",
      "(Epoch 1 / 10) train loss: 2.302623; val loss: 2.302626\n",
      "(Epoch 2 / 10) train loss: 2.274386; val loss: 2.220627\n",
      "(Epoch 3 / 10) train loss: 2.151029; val loss: 2.101187\n",
      "(Epoch 4 / 10) train loss: 2.050126; val loss: 2.018656\n",
      "(Epoch 5 / 10) train loss: 1.977939; val loss: 1.959298\n",
      "(Epoch 6 / 10) train loss: 1.925065; val loss: 1.915696\n",
      "(Epoch 7 / 10) train loss: 1.885642; val loss: 1.883449\n",
      "(Epoch 8 / 10) train loss: 1.854563; val loss: 1.857006\n",
      "(Epoch 9 / 10) train loss: 1.828892; val loss: 1.834838\n",
      "(Epoch 10 / 10) train loss: 1.807084; val loss: 1.814920\n",
      "\n",
      "Evaluating Config #2 [of 15]:\n",
      " {'learning_rate': 8.812850084338764e-05, 'reg': 4.1278593221232336e-07, 'loss_func': <exercise_code.networks.loss.CrossEntropyFromLogits object at 0x000002CEFA4937C8>, 'hidden_size': 375, 'activation': <exercise_code.networks.layer.Relu object at 0x000002CEFA263608>, 'optimizer': <class 'exercise_code.networks.optimizer.Adam'>}\n",
      "(Epoch 1 / 10) train loss: 2.302548; val loss: 2.302536\n",
      "(Epoch 2 / 10) train loss: 2.047406; val loss: 1.871151\n",
      "(Epoch 3 / 10) train loss: 1.787617; val loss: 1.752001\n",
      "(Epoch 4 / 10) train loss: 1.690804; val loss: 1.680860\n",
      "(Epoch 5 / 10) train loss: 1.624262; val loss: 1.636656\n",
      "(Epoch 6 / 10) train loss: 1.573606; val loss: 1.599444\n",
      "(Epoch 7 / 10) train loss: 1.532132; val loss: 1.575042\n",
      "(Epoch 8 / 10) train loss: 1.497496; val loss: 1.555174\n",
      "(Epoch 9 / 10) train loss: 1.467556; val loss: 1.534955\n",
      "(Epoch 10 / 10) train loss: 1.439245; val loss: 1.527811\n",
      "\n",
      "Evaluating Config #3 [of 15]:\n",
      " {'learning_rate': 9.609855450635738e-05, 'reg': 1.5300895213733276e-07, 'loss_func': <exercise_code.networks.loss.CrossEntropyFromLogits object at 0x000002CEFA4937C8>, 'hidden_size': 401, 'activation': <exercise_code.networks.layer.LeakyRelu object at 0x000002CEFA263EC8>, 'optimizer': <class 'exercise_code.networks.optimizer.Adam'>}\n",
      "(Epoch 1 / 10) train loss: 2.302591; val loss: 2.302592\n",
      "(Epoch 2 / 10) train loss: 2.030569; val loss: 1.861589\n",
      "(Epoch 3 / 10) train loss: 1.773969; val loss: 1.735226\n",
      "(Epoch 4 / 10) train loss: 1.673646; val loss: 1.665458\n",
      "(Epoch 5 / 10) train loss: 1.604950; val loss: 1.616904\n",
      "(Epoch 6 / 10) train loss: 1.553397; val loss: 1.584498\n",
      "(Epoch 7 / 10) train loss: 1.510356; val loss: 1.563070\n",
      "(Epoch 8 / 10) train loss: 1.474711; val loss: 1.543645\n",
      "(Epoch 9 / 10) train loss: 1.443098; val loss: 1.524169\n",
      "(Epoch 10 / 10) train loss: 1.413267; val loss: 1.508164\n",
      "\n",
      "Evaluating Config #4 [of 15]:\n",
      " {'learning_rate': 1.1195297088719015e-05, 'reg': 2.419726982715668e-07, 'loss_func': <exercise_code.networks.loss.CrossEntropyFromLogits object at 0x000002CEFA4937C8>, 'hidden_size': 303, 'activation': <exercise_code.networks.layer.Relu object at 0x000002CEFA263608>, 'optimizer': <class 'exercise_code.networks.optimizer.Adam'>}\n",
      "(Epoch 1 / 10) train loss: 2.302600; val loss: 2.302597\n",
      "(Epoch 2 / 10) train loss: 2.281711; val loss: 2.240444\n",
      "(Epoch 3 / 10) train loss: 2.179827; val loss: 2.133010\n",
      "(Epoch 4 / 10) train loss: 2.088513; val loss: 2.060398\n",
      "(Epoch 5 / 10) train loss: 2.022874; val loss: 2.004295\n",
      "(Epoch 6 / 10) train loss: 1.971665; val loss: 1.959378\n",
      "(Epoch 7 / 10) train loss: 1.929680; val loss: 1.924241\n",
      "(Epoch 8 / 10) train loss: 1.897159; val loss: 1.896384\n",
      "(Epoch 9 / 10) train loss: 1.869965; val loss: 1.873227\n",
      "(Epoch 10 / 10) train loss: 1.847014; val loss: 1.853396\n",
      "\n",
      "Evaluating Config #5 [of 15]:\n",
      " {'learning_rate': 0.00019368783590933405, 'reg': 3.636687119353182e-06, 'loss_func': <exercise_code.networks.loss.CrossEntropyFromLogits object at 0x000002CEFA4937C8>, 'hidden_size': 292, 'activation': <exercise_code.networks.layer.Relu object at 0x000002CEFA263608>, 'optimizer': <class 'exercise_code.networks.optimizer.Adam'>}\n",
      "(Epoch 1 / 10) train loss: 2.302570; val loss: 2.302565\n",
      "(Epoch 2 / 10) train loss: 1.947425; val loss: 1.768858\n",
      "(Epoch 3 / 10) train loss: 1.682623; val loss: 1.652617\n",
      "(Epoch 4 / 10) train loss: 1.581485; val loss: 1.588892\n",
      "(Epoch 5 / 10) train loss: 1.512963; val loss: 1.555030\n",
      "(Epoch 6 / 10) train loss: 1.458321; val loss: 1.520645\n",
      "(Epoch 7 / 10) train loss: 1.413039; val loss: 1.497756\n",
      "(Epoch 8 / 10) train loss: 1.370563; val loss: 1.483583\n",
      "(Epoch 9 / 10) train loss: 1.330620; val loss: 1.475701\n",
      "(Epoch 10 / 10) train loss: 1.294595; val loss: 1.454022\n",
      "\n",
      "Evaluating Config #6 [of 15]:\n",
      " {'learning_rate': 8.480008883680885e-05, 'reg': 2.7626351804193486e-05, 'loss_func': <exercise_code.networks.loss.CrossEntropyFromLogits object at 0x000002CEFA4937C8>, 'hidden_size': 383, 'activation': <exercise_code.networks.layer.Relu object at 0x000002CEFA263608>, 'optimizer': <class 'exercise_code.networks.optimizer.Adam'>}\n",
      "(Epoch 1 / 10) train loss: 2.302610; val loss: 2.302621\n",
      "(Epoch 2 / 10) train loss: 2.051661; val loss: 1.875293\n",
      "(Epoch 3 / 10) train loss: 1.791857; val loss: 1.756140\n",
      "(Epoch 4 / 10) train loss: 1.696748; val loss: 1.691719\n",
      "(Epoch 5 / 10) train loss: 1.629877; val loss: 1.639181\n",
      "(Epoch 6 / 10) train loss: 1.579237; val loss: 1.605258\n",
      "(Epoch 7 / 10) train loss: 1.537932; val loss: 1.577423\n",
      "(Epoch 8 / 10) train loss: 1.501871; val loss: 1.558750\n",
      "(Epoch 9 / 10) train loss: 1.471731; val loss: 1.541321\n",
      "(Epoch 10 / 10) train loss: 1.443870; val loss: 1.522950\n",
      "\n",
      "Evaluating Config #7 [of 15]:\n",
      " {'learning_rate': 4.372298026340606e-05, 'reg': 1.0980721402186745e-05, 'loss_func': <exercise_code.networks.loss.CrossEntropyFromLogits object at 0x000002CEFA4937C8>, 'hidden_size': 280, 'activation': <exercise_code.networks.layer.Relu object at 0x000002CEFA263608>, 'optimizer': <class 'exercise_code.networks.optimizer.Adam'>}\n",
      "(Epoch 1 / 10) train loss: 2.302582; val loss: 2.302578\n",
      "(Epoch 2 / 10) train loss: 2.172896; val loss: 2.035328\n",
      "(Epoch 3 / 10) train loss: 1.942890; val loss: 1.890611\n",
      "(Epoch 4 / 10) train loss: 1.837968; val loss: 1.818376\n",
      "(Epoch 5 / 10) train loss: 1.774702; val loss: 1.768635\n",
      "(Epoch 6 / 10) train loss: 1.728207; val loss: 1.731584\n",
      "(Epoch 7 / 10) train loss: 1.691129; val loss: 1.700618\n",
      "(Epoch 8 / 10) train loss: 1.658610; val loss: 1.674614\n",
      "(Epoch 9 / 10) train loss: 1.630289; val loss: 1.652399\n",
      "(Epoch 10 / 10) train loss: 1.605077; val loss: 1.633360\n",
      "\n",
      "Evaluating Config #8 [of 15]:\n",
      " {'learning_rate': 8.336568229673514e-05, 'reg': 4.484090597009194e-05, 'loss_func': <exercise_code.networks.loss.CrossEntropyFromLogits object at 0x000002CEFA4937C8>, 'hidden_size': 418, 'activation': <exercise_code.networks.layer.LeakyRelu object at 0x000002CEFA263EC8>, 'optimizer': <class 'exercise_code.networks.optimizer.Adam'>}\n",
      "(Epoch 1 / 10) train loss: 2.302656; val loss: 2.302662\n",
      "(Epoch 2 / 10) train loss: 2.046175; val loss: 1.872950\n",
      "(Epoch 3 / 10) train loss: 1.789822; val loss: 1.750978\n",
      "(Epoch 4 / 10) train loss: 1.693119; val loss: 1.685480\n",
      "(Epoch 5 / 10) train loss: 1.627846; val loss: 1.641206\n",
      "(Epoch 6 / 10) train loss: 1.576399; val loss: 1.604229\n",
      "(Epoch 7 / 10) train loss: 1.536239; val loss: 1.577161\n",
      "(Epoch 8 / 10) train loss: 1.500103; val loss: 1.558689\n",
      "(Epoch 9 / 10) train loss: 1.469372; val loss: 1.543899\n",
      "(Epoch 10 / 10) train loss: 1.441631; val loss: 1.522480\n",
      "\n",
      "Evaluating Config #9 [of 15]:\n",
      " {'learning_rate': 0.0001198212897314062, 'reg': 5.923205683852846e-07, 'loss_func': <exercise_code.networks.loss.CrossEntropyFromLogits object at 0x000002CEFA4937C8>, 'hidden_size': 361, 'activation': <exercise_code.networks.layer.LeakyRelu object at 0x000002CEFA263EC8>, 'optimizer': <class 'exercise_code.networks.optimizer.Adam'>}\n",
      "(Epoch 1 / 10) train loss: 2.302613; val loss: 2.302608\n",
      "(Epoch 2 / 10) train loss: 2.006435; val loss: 1.834610\n",
      "(Epoch 3 / 10) train loss: 1.749251; val loss: 1.711300\n",
      "(Epoch 4 / 10) train loss: 1.646784; val loss: 1.644978\n",
      "(Epoch 5 / 10) train loss: 1.577555; val loss: 1.598649\n",
      "(Epoch 6 / 10) train loss: 1.525520; val loss: 1.567754\n",
      "(Epoch 7 / 10) train loss: 1.481928; val loss: 1.546088\n"
     ]
    },
    {
     "name": "stdout",
     "output_type": "stream",
     "text": [
      "(Epoch 8 / 10) train loss: 1.445304; val loss: 1.529886\n",
      "(Epoch 9 / 10) train loss: 1.412724; val loss: 1.513504\n",
      "(Epoch 10 / 10) train loss: 1.381986; val loss: 1.495934\n",
      "\n",
      "Evaluating Config #10 [of 15]:\n",
      " {'learning_rate': 6.88401128901435e-05, 'reg': 3.1277518867052135e-06, 'loss_func': <exercise_code.networks.loss.CrossEntropyFromLogits object at 0x000002CEFA4937C8>, 'hidden_size': 372, 'activation': <exercise_code.networks.layer.LeakyRelu object at 0x000002CEFA263EC8>, 'optimizer': <class 'exercise_code.networks.optimizer.Adam'>}\n",
      "(Epoch 1 / 10) train loss: 2.302568; val loss: 2.302557\n",
      "(Epoch 2 / 10) train loss: 2.087857; val loss: 1.914796\n",
      "(Epoch 3 / 10) train loss: 1.832445; val loss: 1.792514\n",
      "(Epoch 4 / 10) train loss: 1.736193; val loss: 1.723468\n",
      "(Epoch 5 / 10) train loss: 1.670460; val loss: 1.672928\n",
      "(Epoch 6 / 10) train loss: 1.619982; val loss: 1.637749\n",
      "(Epoch 7 / 10) train loss: 1.577562; val loss: 1.606694\n",
      "(Epoch 8 / 10) train loss: 1.543464; val loss: 1.583236\n",
      "(Epoch 9 / 10) train loss: 1.513205; val loss: 1.564253\n",
      "(Epoch 10 / 10) train loss: 1.486999; val loss: 1.550263\n",
      "\n",
      "Evaluating Config #11 [of 15]:\n",
      " {'learning_rate': 4.8514762324023985e-05, 'reg': 1.3876186149621942e-05, 'loss_func': <exercise_code.networks.loss.CrossEntropyFromLogits object at 0x000002CEFA4937C8>, 'hidden_size': 266, 'activation': <exercise_code.networks.layer.Relu object at 0x000002CEFA263608>, 'optimizer': <class 'exercise_code.networks.optimizer.Adam'>}\n",
      "(Epoch 1 / 10) train loss: 2.302594; val loss: 2.302595\n",
      "(Epoch 2 / 10) train loss: 2.163619; val loss: 2.016772\n",
      "(Epoch 3 / 10) train loss: 1.923618; val loss: 1.873331\n",
      "(Epoch 4 / 10) train loss: 1.820557; val loss: 1.803762\n",
      "(Epoch 5 / 10) train loss: 1.757898; val loss: 1.753268\n",
      "(Epoch 6 / 10) train loss: 1.711348; val loss: 1.716005\n",
      "(Epoch 7 / 10) train loss: 1.673711; val loss: 1.686382\n",
      "(Epoch 8 / 10) train loss: 1.640961; val loss: 1.662570\n",
      "(Epoch 9 / 10) train loss: 1.613158; val loss: 1.638806\n",
      "(Epoch 10 / 10) train loss: 1.588124; val loss: 1.620063\n",
      "\n",
      "Evaluating Config #12 [of 15]:\n",
      " {'learning_rate': 3.503047999233953e-05, 'reg': 1.6299944026683722e-06, 'loss_func': <exercise_code.networks.loss.CrossEntropyFromLogits object at 0x000002CEFA4937C8>, 'hidden_size': 325, 'activation': <exercise_code.networks.layer.Relu object at 0x000002CEFA263608>, 'optimizer': <class 'exercise_code.networks.optimizer.Adam'>}\n",
      "(Epoch 1 / 10) train loss: 2.302587; val loss: 2.302587\n",
      "(Epoch 2 / 10) train loss: 2.192408; val loss: 2.061941\n",
      "(Epoch 3 / 10) train loss: 1.969473; val loss: 1.914050\n",
      "(Epoch 4 / 10) train loss: 1.862877; val loss: 1.842547\n",
      "(Epoch 5 / 10) train loss: 1.800685; val loss: 1.793526\n",
      "(Epoch 6 / 10) train loss: 1.754637; val loss: 1.755483\n",
      "(Epoch 7 / 10) train loss: 1.717342; val loss: 1.724415\n",
      "(Epoch 8 / 10) train loss: 1.685123; val loss: 1.697562\n",
      "(Epoch 9 / 10) train loss: 1.657167; val loss: 1.675184\n",
      "(Epoch 10 / 10) train loss: 1.632399; val loss: 1.656964\n",
      "\n",
      "Evaluating Config #13 [of 15]:\n",
      " {'learning_rate': 3.953566862363379e-05, 'reg': 3.645340929577715e-05, 'loss_func': <exercise_code.networks.loss.CrossEntropyFromLogits object at 0x000002CEFA4937C8>, 'hidden_size': 311, 'activation': <exercise_code.networks.layer.LeakyRelu object at 0x000002CEFA263EC8>, 'optimizer': <class 'exercise_code.networks.optimizer.Adam'>}\n",
      "(Epoch 1 / 10) train loss: 2.302552; val loss: 2.302556\n",
      "(Epoch 2 / 10) train loss: 2.179247; val loss: 2.041186\n",
      "(Epoch 3 / 10) train loss: 1.948197; val loss: 1.898003\n",
      "(Epoch 4 / 10) train loss: 1.845778; val loss: 1.825330\n",
      "(Epoch 5 / 10) train loss: 1.782915; val loss: 1.777854\n",
      "(Epoch 6 / 10) train loss: 1.736641; val loss: 1.738810\n",
      "(Epoch 7 / 10) train loss: 1.697755; val loss: 1.706898\n",
      "(Epoch 8 / 10) train loss: 1.665288; val loss: 1.680303\n",
      "(Epoch 9 / 10) train loss: 1.636489; val loss: 1.657064\n",
      "(Epoch 10 / 10) train loss: 1.611213; val loss: 1.638847\n",
      "\n",
      "Evaluating Config #14 [of 15]:\n",
      " {'learning_rate': 2.045053036195386e-05, 'reg': 9.155914904075066e-06, 'loss_func': <exercise_code.networks.loss.CrossEntropyFromLogits object at 0x000002CEFA4937C8>, 'hidden_size': 326, 'activation': <exercise_code.networks.layer.Relu object at 0x000002CEFA263608>, 'optimizer': <class 'exercise_code.networks.optimizer.Adam'>}\n",
      "(Epoch 1 / 10) train loss: 2.302632; val loss: 2.302644\n",
      "(Epoch 2 / 10) train loss: 2.245105; val loss: 2.153986\n",
      "(Epoch 3 / 10) train loss: 2.073850; val loss: 2.017591\n",
      "(Epoch 4 / 10) train loss: 1.960977; val loss: 1.930916\n",
      "(Epoch 5 / 10) train loss: 1.890505; val loss: 1.877672\n",
      "(Epoch 6 / 10) train loss: 1.843359; val loss: 1.840655\n",
      "(Epoch 7 / 10) train loss: 1.807283; val loss: 1.809636\n",
      "(Epoch 8 / 10) train loss: 1.778428; val loss: 1.785234\n",
      "(Epoch 9 / 10) train loss: 1.753381; val loss: 1.763519\n",
      "(Epoch 10 / 10) train loss: 1.732145; val loss: 1.744454\n",
      "\n",
      "Evaluating Config #15 [of 15]:\n",
      " {'learning_rate': 1.7234014676184904e-05, 'reg': 3.6883397908920203e-07, 'loss_func': <exercise_code.networks.loss.CrossEntropyFromLogits object at 0x000002CEFA4937C8>, 'hidden_size': 369, 'activation': <exercise_code.networks.layer.LeakyRelu object at 0x000002CEFA263EC8>, 'optimizer': <class 'exercise_code.networks.optimizer.Adam'>}\n",
      "(Epoch 1 / 10) train loss: 2.302491; val loss: 2.302504\n",
      "(Epoch 2 / 10) train loss: 2.250672; val loss: 2.168332\n",
      "(Epoch 3 / 10) train loss: 2.094069; val loss: 2.041739\n",
      "(Epoch 4 / 10) train loss: 1.988110; val loss: 1.957830\n",
      "(Epoch 5 / 10) train loss: 1.915523; val loss: 1.901619\n",
      "(Epoch 6 / 10) train loss: 1.866697; val loss: 1.862031\n",
      "(Epoch 7 / 10) train loss: 1.829984; val loss: 1.831228\n",
      "(Epoch 8 / 10) train loss: 1.800040; val loss: 1.804812\n",
      "(Epoch 9 / 10) train loss: 1.774074; val loss: 1.782980\n",
      "(Epoch 10 / 10) train loss: 1.751761; val loss: 1.762961\n",
      "\n",
      "Search done. Best Val Loss = 1.4540219725845354\n",
      "Best Config: {'learning_rate': 0.00019368783590933405, 'reg': 3.636687119353182e-06, 'loss_func': <exercise_code.networks.loss.CrossEntropyFromLogits object at 0x000002CEFA4937C8>, 'hidden_size': 292, 'activation': <exercise_code.networks.layer.Relu object at 0x000002CEFA263608>, 'optimizer': <class 'exercise_code.networks.optimizer.Adam'>}\n"
     ]
    }
   ],
   "source": [
    "from exercise_code.networks import MyOwnNetwork\n",
    "from exercise_code.networks.optimizer import SGD, sgd_momentum, Adam\n",
    "from exercise_code.hyperparameter_tuning import random_search\n",
    "\n",
    "# best_model = ClassificationNet()\n",
    "best_model = MyOwnNetwork()\n",
    "\n",
    "########################################################################\n",
    "# TODO:                                                                #\n",
    "# Implement your own neural network and find suitable hyperparameters  #\n",
    "# Be sure to edit the MyOwnNetwork class in the following code snippet #\n",
    "# to upload the correct model!                                         #\n",
    "########################################################################\n",
    "\n",
    "loss_func = CrossEntropyFromLogits\n",
    "\n",
    "best_model, results = random_search(\n",
    "    dataloaders['train'], dataloaders['val'],\n",
    "    random_search_spaces = {\n",
    "        \"learning_rate\": ([1e-5, 3e-4], 'log'), # 2e-5 - 3e-4\n",
    "        \"reg\": ([1e-7, 5e-5], \"log\"),\n",
    "        \"loss_func\": ([CrossEntropyFromLogits()], \"item\"),\n",
    "        \"hidden_size\": ([260, 420], \"int\"),\n",
    "        \"activation\": ([LeakyRelu(),Relu()], \"item\"),\n",
    "        \"optimizer\":([Adam], \"item\")\n",
    "    },\n",
    "    model_class=model_class,\n",
    "    num_search = 30, epochs=20, patience=5)\n",
    "\n",
    "########################################################################\n",
    "#                           END OF YOUR CODE                           #\n",
    "########################################################################"
   ]
  },
  {
   "cell_type": "markdown",
   "metadata": {},
   "source": [
    "Now it's time to edit the ranges above and adjust them to explore regions that performed well!\n",
    "\n",
    "Also, feel free to experiment around! Also the network architecture, optimizer options and activations functions, etc. are hyperparameters that you can change!\n",
    "\n",
    "Try to get your accuracy as high as possible! That's all what counts for this submission!\n",
    "\n",
    "You'll pass if you reach at least **48%** accuracy on our test set - but there will also be a leaderboard of all students of this course. Will you make it to the top?"
   ]
  },
  {
   "cell_type": "markdown",
   "metadata": {},
   "source": [
    "## Checking the validation accuracy"
   ]
  },
  {
   "cell_type": "code",
   "execution_count": 23,
   "metadata": {},
   "outputs": [
    {
     "name": "stdout",
     "output_type": "stream",
     "text": [
      "Train Accuracy: 57.66559829059828%\n",
      "Validation Accuracy: 50.01001602564102%\n"
     ]
    }
   ],
   "source": [
    "labels, pred, acc = best_model.get_dataset_prediction(dataloaders['train'])\n",
    "print(\"Train Accuracy: {}%\".format(acc*100))\n",
    "labels, pred, acc = best_model.get_dataset_prediction(dataloaders['val'])\n",
    "print(\"Validation Accuracy: {}%\".format(acc*100))"
   ]
  },
  {
   "cell_type": "markdown",
   "metadata": {},
   "source": [
    "# Test your model\n",
    "When you have finished your hyperparameter tuning and are sure you have your final model that performs well on the validation set (**you should at least get 48% accuracy on the validation set!**), it's time to run your  model on the test set.\n",
    "\n",
    "<div class=\"alert alert-danger\">\n",
    "    <h3>Important</h3>\n",
    "    <p>As you have learned in the lecture, you must only use the test set one single time! So only run the next cell if you are really sure your model works well enough and that you want to submit. Your test set is different from the test set on our server, so results may vary. Nevertheless, you will have a reasonable close approximation about your performance if you only do a final evaluation on the test set.</p>\n",
    "    <p>If you are an external student that can't use our submission webpage: this test performance is your final result and if you surpassed the threshold, you have completed this exercise :). Now, train again to aim for a better number!</p>\n",
    "</div>"
   ]
  },
  {
   "cell_type": "code",
   "execution_count": 24,
   "metadata": {},
   "outputs": [
    {
     "name": "stdout",
     "output_type": "stream",
     "text": [
      "Test Accuracy: 49.138621794871796%\n"
     ]
    }
   ],
   "source": [
    "# comment this part out to see your model's performance on the test set.\n",
    "\n",
    "labels, pred, acc = best_model.get_dataset_prediction(dataloaders['test'])\n",
    "print(\"Test Accuracy: {}%\".format(acc*100))\n"
   ]
  },
  {
   "cell_type": "markdown",
   "metadata": {},
   "source": [
    "Note: The \"real\" test set is actually the dataset we're using for testing your model, which is **different** from the test-set you're using here. "
   ]
  },
  {
   "cell_type": "markdown",
   "metadata": {},
   "source": [
    "# Saving your Model"
   ]
  },
  {
   "cell_type": "code",
   "execution_count": 26,
   "metadata": {},
   "outputs": [],
   "source": [
    "from exercise_code.tests import save_pickle\n",
    "save_pickle({\"cifar_fcn\": best_model}, \"cifar_fcn.p\")"
   ]
  },
  {
   "cell_type": "markdown",
   "metadata": {},
   "source": [
    "# Submission Instructions\n",
    "\n",
    "Congratulations! You've just built your first image classifier! To complete the exercise, submit your final model to our submission portal - you probably know the procedure by now.\n",
    "\n",
    "1. Go on [our submission page](https://dvl.in.tum.de/teaching/submission/), register for an account and login. We use your matriculation number and send an email with the login details to the mail account associated. When in doubt, login into tum online and check your mails there. You will get an id which we need in the next step.\n",
    "2. Navigate to `exercise_code` directory and run the `create_submission.sh` file to create the zip file of your model. This will create a single `zip` file that you need to upload. Otherwise, you can also zip it manually if you don't want to use the bash script.\n",
    "3. Log into [our submission page](https://dvl.in.tum.de/teaching/submission/) with your account details and upload the `zip` file. Once successfully uploaded, you should be able to see the submitted \"dummy_model.p\" file selectable on the top.\n",
    "4. Click on this file and run the submission script. You will get an email with your score as well as a message if you have surpassed the threshold.\n",
    "\n",
    "# Submission Goals\n",
    "\n",
    "- Goal: Successfully implement a fully connected NN image classifier, tune hyperparameters.\n",
    "\n",
    "- Passing Criteria: This time, there are no unit tests that check specific components of your code. The only thing that's required to pass the submission, is your model to reach at least **48% accuracy** on __our__ test dataset. The submission system will show you a number between 0 and 100 which corresponds to your accuracy.\n",
    "\n",
    "- Submission start: __May 28, 2020 12.00__\n",
    "- Submission deadline : __June 03, 2020 23.59__ \n",
    "- You can make **$\\infty$** submissions until the deadline. Your __best submission__ will be considered for bonus"
   ]
  }
 ],
 "metadata": {
  "kernelspec": {
   "display_name": "Python 3",
   "language": "python",
   "name": "python3"
  },
  "language_info": {
   "codemirror_mode": {
    "name": "ipython",
    "version": 3
   },
   "file_extension": ".py",
   "mimetype": "text/x-python",
   "name": "python",
   "nbconvert_exporter": "python",
   "pygments_lexer": "ipython3",
   "version": "3.7.4"
  }
 },
 "nbformat": 4,
 "nbformat_minor": 1
}
